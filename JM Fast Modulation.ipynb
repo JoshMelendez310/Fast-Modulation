{
 "cells": [
  {
   "cell_type": "code",
   "execution_count": 2,
   "metadata": {},
   "outputs": [
    {
     "name": "stdout",
     "output_type": "stream",
     "text": [
      "976371285\n"
     ]
    }
   ],
   "source": [
    "#Example of fast Modulation\n",
    "a = 2\n",
    "b = 100\n",
    "p = (int)(1e9+7) \n",
    "  \n",
    "# Using direct fast method to compute  \n",
    "# (a ^ b) % p. \n",
    "d = pow(a, b, p) \n",
    "print (d)"
   ]
  }
 ],
 "metadata": {
  "kernelspec": {
   "display_name": "Python 3",
   "language": "python",
   "name": "python3"
  },
  "language_info": {
   "codemirror_mode": {
    "name": "ipython",
    "version": 3
   },
   "file_extension": ".py",
   "mimetype": "text/x-python",
   "name": "python",
   "nbconvert_exporter": "python",
   "pygments_lexer": "ipython3",
   "version": "3.7.3"
  }
 },
 "nbformat": 4,
 "nbformat_minor": 2
}
